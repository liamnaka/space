{
  "nbformat": 4,
  "nbformat_minor": 0,
  "metadata": {
    "kernelspec": {
      "display_name": "Python 3",
      "language": "python",
      "name": "python3"
    },
    "language_info": {
      "codemirror_mode": {
        "name": "ipython",
        "version": 3
      },
      "file_extension": ".py",
      "mimetype": "text/x-python",
      "name": "python",
      "nbconvert_exporter": "python",
      "pygments_lexer": "ipython3",
      "version": "3.7.1"
    },
    "colab": {
      "name": "operational.ipynb",
      "provenance": []
    }
  },
  "cells": [
    {
      "cell_type": "code",
      "metadata": {
        "id": "wN9X8mmOonlL",
        "colab_type": "code",
        "colab": {}
      },
      "source": [
        "from google.colab import drive\n",
        "from os.path import join\n",
        "\n",
        "ROOT = '/content/drive'\n",
        "PROJ = 'My Drive/cs236/project/'  \n",
        "drive.mount(ROOT)\n",
        "PROJECT_PATH = join(ROOT, PROJ)\n",
        "!mkdir \"{PROJECT_PATH}\""
      ],
      "execution_count": 0,
      "outputs": []
    },
    {
      "cell_type": "code",
      "metadata": {
        "id": "OeBlF2VBpUDM",
        "colab_type": "code",
        "colab": {}
      },
      "source": [
        "GIT_USER = \"liamnaka\"\n",
        "GIT_REPO = \"space\"\n",
        "GIT_PATH = \"https://github.com/{}/{}.git\".format(GIT_USER, GIT_REPO)\n",
        "GIT_BRANCH = \"exp\"\n",
        "\n",
        "%cd \"{PROJECT_PATH}\" \n",
        "!git clone \"{GIT_PATH}\"\n",
        "%cd \"{PROJECT_PATH}\"/\"{GIT_REPO}\"\n",
        "!git checkout \"{GIT_BRANCH}\" \n",
        "!git pull\n",
        "%cd /content\n",
        "!rsync -aP --exclude=data/ \"{PROJECT_PATH}\"/*  ./"
      ],
      "execution_count": 0,
      "outputs": []
    },
    {
      "cell_type": "code",
      "metadata": {
        "id": "O5nGWSiBpWl2",
        "colab_type": "code",
        "colab": {}
      },
      "source": [
        "from getpass import getpass\n",
        "import os\n",
        "\n",
        "!mkdir ./temp\n",
        "os.environ['AUTH'] = getpass('Github token')\n",
        "os.environ[\"GIT_BRANCH\"] = GIT_BRANCH\n",
        "os.system('git clone -b $GIT_BRANCH --single-branch \"https://$AUTH@github.com/liamnaka/space.git\" ./temp')\n",
        "!rsync -aP --exclude=data/ \"{PROJECT_PATH}\"/space/* ./temp/\n",
        "GIT_COMMIT_MESSAGE = \"test\"\n",
        "\n",
        "%cd ./temp\n",
        "!git add .\n",
        "!git config --global user.email \"nakagawaliam@gmail.com\"\n",
        "!git config --global user.name \"liamnaka\"\n",
        "!git commit -m '{GIT_COMMIT_MESSAGE}'\n",
        "!git push origin \"{GIT_BRANCH}\"\n",
        "%cd /content\n",
        "os.environ['AUTH'] = \"\"\n",
        "!rm -rf ./temp"
      ],
      "execution_count": 0,
      "outputs": []
    }
  ]
}